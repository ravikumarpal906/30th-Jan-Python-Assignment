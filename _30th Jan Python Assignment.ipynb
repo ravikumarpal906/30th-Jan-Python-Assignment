{
 "cells": [
  {
   "cell_type": "markdown",
   "id": "a6cbff19-e318-4ef6-a940-b6e566d5a022",
   "metadata": {},
   "source": [
    "1. Write a program to accept percentage from the user and display the grade according to the following criteria:"
   ]
  },
  {
   "cell_type": "code",
   "execution_count": 2,
   "id": "4dbe960f-d780-4917-82be-88b0f4af9dbb",
   "metadata": {},
   "outputs": [
    {
     "name": "stdin",
     "output_type": "stream",
     "text": [
      "Enter your marks percentage: 5\n"
     ]
    },
    {
     "name": "stdout",
     "output_type": "stream",
     "text": [
      "your grade: D\n"
     ]
    }
   ],
   "source": [
    "marks=int(input(\"Enter your marks percentage:\"))\n",
    "if marks>=90:\n",
    "    print(\"your Grade: A\")\n",
    "elif 80<marks<=90:\n",
    "    print(\"your grade: B\")\n",
    "elif 60<=marks<=80:\n",
    "    print(\"your grade: C\")\n",
    "else:\n",
    "    print(\"your grade: D\")"
   ]
  },
  {
   "cell_type": "markdown",
   "id": "4b1e053d-c9fa-441b-83f5-76a39aeda6a4",
   "metadata": {},
   "source": [
    "2. Write a program to accept the cost price of a bike and display the road tax to be paid according to following criteria:"
   ]
  },
  {
   "cell_type": "code",
   "execution_count": 4,
   "id": "79e4f99a-fdb2-4a8e-a505-cde47c07eca6",
   "metadata": {},
   "outputs": [
    {
     "name": "stdin",
     "output_type": "stream",
     "text": [
      "enter cost price of bike in Rs:  1000000\n"
     ]
    },
    {
     "name": "stdout",
     "output_type": "stream",
     "text": [
      "you have to paid road tax (in Rs.):  150000.0\n"
     ]
    }
   ],
   "source": [
    "cost_price=int(input(\"enter cost price of bike in Rs: \"))\n",
    "if cost_price>100000:\n",
    "    print(\"you have to paid road tax (in Rs.): \",cost_price*15/100)\n",
    "elif 50000<cost_price<=100000:\n",
    "    print(\"you have to paid road tax (in Rs.): \",cost_price*10/100)\n",
    "elif cost_price<=50000:\n",
    "    print(\"you have to paid road tax (in Rs.): \",cost_price*5/100)"
   ]
  },
  {
   "cell_type": "markdown",
   "id": "93524ae2-abbd-4a70-be06-aaa6220e839c",
   "metadata": {},
   "source": [
    "3. Accept any city from the user and display monuments of that city. "
   ]
  },
  {
   "cell_type": "raw",
   "id": "b5966bc1-167b-4af9-b9c1-a95e8dbaa983",
   "metadata": {},
   "source": [
    "City     Monument\n",
    "Delhi    Red fort\n",
    "Agra     Taj Mahal\n",
    "Jaipur   Jal Mahal"
   ]
  },
  {
   "cell_type": "code",
   "execution_count": 6,
   "id": "0c60ab39-345f-45fc-aad9-1816486ebc13",
   "metadata": {},
   "outputs": [
    {
     "name": "stdin",
     "output_type": "stream",
     "text": [
      "Enter a city : deLhi\n"
     ]
    },
    {
     "name": "stdout",
     "output_type": "stream",
     "text": [
      "Red fort is Monument of Delhi\n"
     ]
    }
   ],
   "source": [
    "city=input(\"Enter a city :\").lower()\n",
    "if city==\"delhi\":\n",
    "    print(\"Red fort is Monument of Delhi\")\n",
    "elif city==\"agra\":\n",
    "    print(\"Taj Mahal is monuments of Agra\")\n",
    "elif city==\"jaipur\":\n",
    "    print(\"Jal Mahal is monument of Jaipur\")"
   ]
  },
  {
   "cell_type": "markdown",
   "id": "11efd1d9-a41c-4d93-8131-dda5f04e76c3",
   "metadata": {},
   "source": [
    "4. Check how many times a given number can be divided by 3 before it is less than or equal to 10."
   ]
  },
  {
   "cell_type": "code",
   "execution_count": 8,
   "id": "ba82f97f-5281-4604-bf94-9d9ab38c637a",
   "metadata": {},
   "outputs": [
    {
     "name": "stdin",
     "output_type": "stream",
     "text": [
      "Enter a number:  100\n"
     ]
    },
    {
     "name": "stdout",
     "output_type": "stream",
     "text": [
      "Number of divisions by 3 to reach <= 10: 3\n"
     ]
    }
   ],
   "source": [
    "number = int(input(\"Enter a number: \"))\n",
    "count = 0\n",
    "while number > 10:\n",
    "    number /= 3\n",
    "    count += 1\n",
    "print(\"Number of divisions by 3 to reach <= 10:\", count)"
   ]
  },
  {
   "cell_type": "markdown",
   "id": "bdd9034f-6acd-4145-91b2-f142e17a50b3",
   "metadata": {},
   "source": [
    "5. Why and when to use while loop in python give a detailed description with example"
   ]
  },
  {
   "cell_type": "raw",
   "id": "d3c81601-50b2-4c5b-9319-52b6526272d1",
   "metadata": {},
   "source": [
    "A while loop in Python is used to repeatedly execute a block of code as long as a certain condition remains true. \n",
    "\n",
    "Use a while loop when you need to repeat a task until a specific condition is met, and you don't know beforehand how many iterations will be required."
   ]
  },
  {
   "cell_type": "code",
   "execution_count": 9,
   "id": "c34ade09-a624-45ab-af98-0e3c65022ba8",
   "metadata": {},
   "outputs": [
    {
     "name": "stdin",
     "output_type": "stream",
     "text": [
      "Enter a number between 1 and 10:  5\n"
     ]
    },
    {
     "name": "stdout",
     "output_type": "stream",
     "text": [
      "You entered a valid number: 5\n"
     ]
    }
   ],
   "source": [
    "valid_input = False\n",
    "while not valid_input:\n",
    "    user_input = input(\"Enter a number between 1 and 10: \")\n",
    "    if user_input.isdigit():\n",
    "        number = int(user_input)\n",
    "        if 1 <= number <= 10:\n",
    "            valid_input = True\n",
    "        else:\n",
    "            print(\"Invalid input. Please enter a number between 1 and 10.\")\n",
    "    else:\n",
    "        print(\"Invalid input. Please enter a valid number.\")\n",
    "print(\"You entered a valid number:\", number)\n"
   ]
  },
  {
   "cell_type": "markdown",
   "id": "347c2778-ae1e-4748-97f3-27ceee097687",
   "metadata": {},
   "source": [
    "6. Use nested while loop to print 3 different pattern."
   ]
  },
  {
   "cell_type": "code",
   "execution_count": 2,
   "id": "d14b18d2-d688-446e-b30b-06afd9fd01d3",
   "metadata": {},
   "outputs": [
    {
     "name": "stdout",
     "output_type": "stream",
     "text": [
      "* \n",
      "* * \n",
      "* * * \n",
      "* * * * \n",
      "* * * * * \n"
     ]
    }
   ],
   "source": [
    "# Pattern 1: Right-Angled Triangle\n",
    "\n",
    "n = 5  # Number of rows\n",
    "i = 1\n",
    "\n",
    "while i <= n:\n",
    "    j = 1\n",
    "    while j <= i:\n",
    "        print(\"*\", end=\" \")\n",
    "        j += 1\n",
    "    print()\n",
    "    i += 1\n"
   ]
  },
  {
   "cell_type": "code",
   "execution_count": 12,
   "id": "1e81ea93-5941-48a9-a3c6-cc749f0291f0",
   "metadata": {},
   "outputs": [
    {
     "name": "stdout",
     "output_type": "stream",
     "text": [
      "* * * * * \n",
      "* * * * \n",
      "* * * \n",
      "* * \n",
      "* \n"
     ]
    }
   ],
   "source": [
    "# Pattern 2: Inverted Right-Angled Triangle\n",
    "\n",
    "n = 5  # Number of rows\n",
    "i = n\n",
    "\n",
    "while i >= 1:\n",
    "    j = 1\n",
    "    while j <= i:\n",
    "        print(\"*\", end=\" \")\n",
    "        j += 1\n",
    "    print()\n",
    "    i -= 1\n"
   ]
  },
  {
   "cell_type": "code",
   "execution_count": 1,
   "id": "07140c1f-5195-4455-b324-ab77aa55a265",
   "metadata": {},
   "outputs": [
    {
     "name": "stdout",
     "output_type": "stream",
     "text": [
      "        * \n",
      "      * * * \n",
      "    * * * * * \n",
      "  * * * * * * * \n",
      "* * * * * * * * * \n",
      "  * * * * * * * \n",
      "    * * * * * \n",
      "      * * * \n",
      "        * \n"
     ]
    }
   ],
   "source": [
    "# Pattern 3: Diamond Pattern\n",
    "\n",
    "n = 5  # Number of rows (must be odd)\n",
    "i = 1\n",
    "\n",
    "while i <= n:\n",
    "    j = 1\n",
    "    while j <= n - i:\n",
    "        print(\" \", end=\" \")\n",
    "        j += 1\n",
    "    j = 1\n",
    "    while j <= 2 * i - 1:\n",
    "        print(\"*\", end=\" \")\n",
    "        j += 1\n",
    "    print()\n",
    "    i += 1\n",
    "\n",
    "i = n - 1\n",
    "\n",
    "while i >= 1:\n",
    "    j = 1\n",
    "    while j <= n - i:\n",
    "        print(\" \", end=\" \")\n",
    "        j += 1\n",
    "    j = 1\n",
    "    while j <= 2 * i - 1:\n",
    "        print(\"*\", end=\" \")\n",
    "        j += 1\n",
    "    print()\n",
    "    i -= 1"
   ]
  },
  {
   "cell_type": "markdown",
   "id": "77fd44d0-a620-422f-a64e-40b7ce0f72c4",
   "metadata": {},
   "source": [
    "7. Reverse a while loop to display numbers from 10 to 1"
   ]
  },
  {
   "cell_type": "code",
   "execution_count": 3,
   "id": "b884370f-d9b8-45a4-ad27-9cbe190cdd32",
   "metadata": {},
   "outputs": [
    {
     "name": "stdout",
     "output_type": "stream",
     "text": [
      "10\n",
      "9\n",
      "8\n",
      "7\n",
      "6\n",
      "5\n",
      "4\n",
      "3\n",
      "2\n",
      "1\n"
     ]
    }
   ],
   "source": [
    "num = 10  # Starting number\n",
    "\n",
    "while num >= 1:\n",
    "    print(num)\n",
    "    num -= 1"
   ]
  },
  {
   "cell_type": "markdown",
   "id": "d310beea-1455-4789-afde-b3b1bdfbce09",
   "metadata": {},
   "source": [
    "8. Reverse a while loop to display numbers from 10 to 1"
   ]
  },
  {
   "cell_type": "code",
   "execution_count": 1,
   "id": "88d00f49-007e-47b9-a5f4-ca9ea784f158",
   "metadata": {},
   "outputs": [
    {
     "name": "stdout",
     "output_type": "stream",
     "text": [
      "10\n",
      "9\n",
      "8\n",
      "7\n",
      "6\n",
      "5\n",
      "4\n",
      "3\n",
      "2\n",
      "1\n"
     ]
    }
   ],
   "source": [
    "num = 10  # Starting number\n",
    "\n",
    "while num >= 1:\n",
    "    print(num)\n",
    "    num -= 1\n"
   ]
  },
  {
   "cell_type": "code",
   "execution_count": null,
   "id": "bcf58cf2-1cc8-4a3a-b13f-ca007f0121d8",
   "metadata": {},
   "outputs": [],
   "source": []
  }
 ],
 "metadata": {
  "kernelspec": {
   "display_name": "Python 3 (ipykernel)",
   "language": "python",
   "name": "python3"
  },
  "language_info": {
   "codemirror_mode": {
    "name": "ipython",
    "version": 3
   },
   "file_extension": ".py",
   "mimetype": "text/x-python",
   "name": "python",
   "nbconvert_exporter": "python",
   "pygments_lexer": "ipython3",
   "version": "3.10.8"
  }
 },
 "nbformat": 4,
 "nbformat_minor": 5
}
